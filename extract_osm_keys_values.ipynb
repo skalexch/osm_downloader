{
 "cells": [
  {
   "cell_type": "markdown",
   "metadata": {},
   "source": [
    "## Script to OSM keys and values that can be used in the Overpass API Query\n",
    "\n",
    "Change the key for \"station\" from \"public transport\" to \"railway\""
   ]
  },
  {
   "cell_type": "code",
   "execution_count": 4,
   "metadata": {},
   "outputs": [],
   "source": [
    "from bs4 import BeautifulSoup\n",
    "from urllib.request import urlopen\n",
    "import json\n"
   ]
  },
  {
   "cell_type": "code",
   "execution_count": 2,
   "metadata": {},
   "outputs": [],
   "source": [
    "html = urlopen(\"https://wiki.openstreetmap.org/wiki/Map_features\").read()\n",
    "\n",
    "soup = BeautifulSoup(html, 'html.parser')\n",
    "\n",
    "tags = []\n",
    "for tag in soup.find_all('a'):\n",
    "    tags.append(tag.get('title'))\n",
    "\n",
    "tags = [tag for tag in tags if tag]\n",
    "tags = [tag for tag in tags if 'Tag' in tag]\n",
    "tags = [tag for tag in tags if '=' in tag]\n",
    "tag = [tag[4:] for tag in tags]\n",
    "tags = [tag.replace(\" (page does not exist)\",\"\") for tag in tags]\n",
    "\n",
    "tags = list(set(tags))\n",
    "tags = [tag.split(\"=\") for tag in tags]\n",
    "\n",
    "tag_dict=dict()\n",
    "key_set=set([tag[0] for tag in tags])\n",
    "val_list=[tag[1] for tag in tags]\n",
    "for key in key_set:\n",
    "    value=[tag[1] for tag in tags if tag[0]==key]\n",
    "    tag_dict[key.replace('Tag:', '')]=value\n"
   ]
  },
  {
   "cell_type": "code",
   "execution_count": 12,
   "metadata": {},
   "outputs": [],
   "source": [
    "tag_dict = {v:k for k, v_list in tag_dict.items() for v in v_list}"
   ]
  },
  {
   "cell_type": "code",
   "execution_count": 14,
   "metadata": {},
   "outputs": [],
   "source": [
    "with open('osm_values_to_keys.json', 'w') as file:\n",
    "    json.dump(tag_dict, file)"
   ]
  },
  {
   "cell_type": "code",
   "execution_count": null,
   "metadata": {},
   "outputs": [],
   "source": []
  }
 ],
 "metadata": {
  "kernelspec": {
   "display_name": "Python 3",
   "language": "python",
   "name": "python3"
  },
  "language_info": {
   "codemirror_mode": {
    "name": "ipython",
    "version": 3
   },
   "file_extension": ".py",
   "mimetype": "text/x-python",
   "name": "python",
   "nbconvert_exporter": "python",
   "pygments_lexer": "ipython3",
   "version": "3.11.3"
  }
 },
 "nbformat": 4,
 "nbformat_minor": 2
}
